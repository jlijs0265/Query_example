{
 "cells": [
  {
   "cell_type": "code",
   "execution_count": 1,
   "metadata": {},
   "outputs": [
    {
     "name": "stdout",
     "output_type": "stream",
     "text": [
      "Requirement already satisfied: psycopg2 in c:\\users\\hmsong\\anaconda3\\lib\\site-packages (2.9.3)\n"
     ]
    }
   ],
   "source": [
    "!pip install psycopg2"
   ]
  },
  {
   "cell_type": "code",
   "execution_count": 572,
   "metadata": {},
   "outputs": [],
   "source": [
    "import pandas as pd\n",
    "import numpy as np\n",
    "import psycopg2 as pg"
   ]
  },
  {
   "cell_type": "code",
   "execution_count": 573,
   "metadata": {},
   "outputs": [],
   "source": [
    "# DB Connection\n",
    "conn = pg.connect(host='49.50.167.136',\n",
    "                                port='5432',\n",
    "                                dbname='synthea_1000',\n",
    "                                user='walker106',\n",
    "                                password='forcebewithyou')\n",
    "\n",
    "##-- SQL query\n",
    "query = \"\"\"\n",
    "SELECT * FROM visit_occurrence\n",
    "\"\"\"\n",
    "\n",
    "# Get a DataFrame\n",
    "\n",
    "query_result = pd.read_sql(query, conn)\n",
    "\n"
   ]
  },
  {
   "cell_type": "code",
   "execution_count": 574,
   "metadata": {},
   "outputs": [
    {
     "data": {
      "text/plain": [
       "0       1 days\n",
       "1       1 days\n",
       "2       1 days\n",
       "3       1 days\n",
       "4       1 days\n",
       "         ...  \n",
       "41805   1 days\n",
       "41806   1 days\n",
       "41807   1 days\n",
       "41808   1 days\n",
       "41809   1 days\n",
       "Length: 41810, dtype: timedelta64[ns]"
      ]
     },
     "execution_count": 574,
     "metadata": {},
     "output_type": "execute_result"
    }
   ],
   "source": [
    "# 1번 문제\n",
    "query_result['visit_end_date'].astype('datetime64') - query_result['visit_start_date'].astype('datetime64') + np.timedelta64(1,'D')"
   ]
  },
  {
   "cell_type": "code",
   "execution_count": 575,
   "metadata": {},
   "outputs": [
    {
     "data": {
      "text/plain": [
       "1"
      ]
     },
     "execution_count": 575,
     "metadata": {},
     "output_type": "execute_result"
    }
   ],
   "source": [
    "query_result['total_visit'] = query_result['visit_end_date'].astype('datetime64') - query_result['visit_start_date'].astype('datetime64') + np.timedelta64(1,'D')\n",
    "query_result.loc[query_result['total_visit'] ==(query_result['visit_end_date'].astype('datetime64') - query_result['visit_start_date'].astype('datetime64') + np.timedelta64(1,'D')).max(),'person_id'].count()"
   ]
  },
  {
   "cell_type": "code",
   "execution_count": 576,
   "metadata": {},
   "outputs": [],
   "source": [
    "#2\n",
    "query = \"\"\"\n",
    "SELECT * FROM condition_occurrence\n",
    "\"\"\"\n",
    "\n",
    "# Get a DataFrame\n",
    "\n",
    "condition_occurrence = pd.read_sql(query, conn)"
   ]
  },
  {
   "cell_type": "code",
   "execution_count": 577,
   "metadata": {},
   "outputs": [],
   "source": [
    "query = \"\"\"\n",
    "SELECT * FROM concept\n",
    "\"\"\"\n",
    "\n",
    "# Get a DataFrame\n",
    "\n",
    "concept = pd.read_sql(query, conn)"
   ]
  },
  {
   "cell_type": "code",
   "execution_count": 580,
   "metadata": {},
   "outputs": [],
   "source": [
    "#merge함수를 써주기위해 condition_occurrence의 column 명 수정, id 와 상병만 남기고 merge실행\n",
    "concept_name= pd.merge(condition_occurrence.rename({'condition_concept_id':'concept_id'},axis=1)[['concept_id']], concept[['concept_id','concept_name']],on='concept_id')"
   ]
  },
  {
   "cell_type": "code",
   "execution_count": 581,
   "metadata": {},
   "outputs": [],
   "source": [
    "#위의 결과로 나온 정보에서 중복 제거하여 concept_name 할당\n",
    "concept_name= pd.DataFrame(concept_name.loc[concept_name['concept_name']!='No matching concept']['concept_name'].unique())"
   ]
  },
  {
   "cell_type": "code",
   "execution_count": 582,
   "metadata": {},
   "outputs": [],
   "source": [
    "#대소문자 구분없이 검색하기위해 검색용 column 추가\n",
    "concept_name['search']= concept_name[0].str.lower()\n",
    "#heart를 포함한 상병 이름 조회\n",
    "concept_name[concept_name['search'].str.contains('heart')][0]\n",
    "#heart가 중간 값인지 확인\n",
    "include_heart = concept_name[concept_name['search'].str.contains('heart')]"
   ]
  },
  {
   "cell_type": "code",
   "execution_count": 583,
   "metadata": {},
   "outputs": [
    {
     "data": {
      "text/plain": [
       "49     False\n",
       "112    False\n",
       "115     True\n",
       "Name: search, dtype: bool"
      ]
     },
     "execution_count": 583,
     "metadata": {},
     "output_type": "execute_result"
    }
   ],
   "source": [
    "#heart 가 맨뒤에 있을시\n",
    "include_heart['search'].str.len() -5 == include_heart['search'].str.find('heart')"
   ]
  },
  {
   "cell_type": "code",
   "execution_count": 584,
   "metadata": {},
   "outputs": [
    {
     "data": {
      "text/plain": [
       "49     False\n",
       "112     True\n",
       "115    False\n",
       "Name: search, dtype: bool"
      ]
     },
     "execution_count": 584,
     "metadata": {},
     "output_type": "execute_result"
    }
   ],
   "source": [
    "#heart 가 맨 앞에 있을시\n",
    "include_heart['search'].str.find('heart') == 0"
   ]
  },
  {
   "cell_type": "code",
   "execution_count": 585,
   "metadata": {},
   "outputs": [
    {
     "data": {
      "text/plain": [
       "49     19\n",
       "112     0\n",
       "115    10\n",
       "Name: search, dtype: int64"
      ]
     },
     "execution_count": 585,
     "metadata": {},
     "output_type": "execute_result"
    }
   ],
   "source": [
    "include_heart['search'].str.find('heart')"
   ]
  },
  {
   "cell_type": "code",
   "execution_count": 586,
   "metadata": {},
   "outputs": [],
   "source": [
    "#a, b, c, d, e로 시작하는 상병이름 조회\n",
    "ch_serach_name= concept_name[concept_name['search'].str.startswith('a')|concept_name['search'].str.startswith('b')|concept_name['search'].str.startswith('c')|concept_name['search'].str.startswith('d')|concept_name['search'].str.startswith('e')]"
   ]
  },
  {
   "cell_type": "code",
   "execution_count": 587,
   "metadata": {},
   "outputs": [
    {
     "data": {
      "text/html": [
       "<div>\n",
       "<style scoped>\n",
       "    .dataframe tbody tr th:only-of-type {\n",
       "        vertical-align: middle;\n",
       "    }\n",
       "\n",
       "    .dataframe tbody tr th {\n",
       "        vertical-align: top;\n",
       "    }\n",
       "\n",
       "    .dataframe thead th {\n",
       "        text-align: right;\n",
       "    }\n",
       "</style>\n",
       "<table border=\"1\" class=\"dataframe\">\n",
       "  <thead>\n",
       "    <tr style=\"text-align: right;\">\n",
       "      <th></th>\n",
       "      <th>0</th>\n",
       "    </tr>\n",
       "  </thead>\n",
       "  <tbody>\n",
       "    <tr>\n",
       "      <th>49</th>\n",
       "      <td>Chronic congestive heart failure</td>\n",
       "    </tr>\n",
       "  </tbody>\n",
       "</table>\n",
       "</div>"
      ],
      "text/plain": [
       "                                   0\n",
       "49  Chronic congestive heart failure"
      ]
     },
     "execution_count": 587,
     "metadata": {},
     "output_type": "execute_result"
    }
   ],
   "source": [
    "#a,b,c,d,e로 시작하고, heart가 포함되고, 중간에 위치한 상병 이름 조회\n",
    "include_heart = ch_serach_name[ch_serach_name['search'].str.contains('heart')]\n",
    "include_heart[~(include_heart['search'].str.find('heart') == 0)|(include_heart['search'].str.len() -5 == include_heart['search'].str.find('heart'))][[0]]"
   ]
  },
  {
   "cell_type": "code",
   "execution_count": 588,
   "metadata": {},
   "outputs": [],
   "source": [
    "#3\n",
    "query = \"\"\"\n",
    "SELECT * FROM drug_exposure\n",
    "\"\"\"\n",
    "\n",
    "# Get a DataFrame\n",
    "\n",
    "drug_exposure = pd.read_sql(query, conn)"
   ]
  },
  {
   "cell_type": "code",
   "execution_count": 589,
   "metadata": {},
   "outputs": [],
   "source": [
    "#환자번호 1891866 조회\n",
    "durg_table = drug_exposure.loc[drug_exposure['person_id']==1891866][['person_id','drug_concept_id','drug_exposure_start_date','drug_exposure_end_date']]"
   ]
  },
  {
   "cell_type": "code",
   "execution_count": 590,
   "metadata": {},
   "outputs": [],
   "source": [
    "#복용 길이 할당\n",
    "durg_table['length']= durg_table['drug_exposure_end_date'].astype('datetime64') - durg_table['drug_exposure_start_date'].astype('datetime64')"
   ]
  },
  {
   "cell_type": "code",
   "execution_count": 591,
   "metadata": {},
   "outputs": [],
   "source": [
    "#datedeltime type int형으로 수정\n",
    "durg_table['length'] = durg_table['length'].apply(lambda x: x.days)"
   ]
  },
  {
   "cell_type": "code",
   "execution_count": 592,
   "metadata": {},
   "outputs": [],
   "source": [
    "#drug_exposure_start_date 값\n",
    "min_durg = durg_table.groupby('drug_concept_id').min()"
   ]
  },
  {
   "cell_type": "code",
   "execution_count": 593,
   "metadata": {},
   "outputs": [],
   "source": [
    "#drug_exposure_end_date 값\n",
    "max_drug = durg_table.groupby('drug_concept_id').max()"
   ]
  },
  {
   "cell_type": "code",
   "execution_count": 594,
   "metadata": {},
   "outputs": [],
   "source": [
    "#총 복용길이\n",
    "durg_table_answer = durg_table.groupby('drug_concept_id').sum()"
   ]
  },
  {
   "cell_type": "code",
   "execution_count": 595,
   "metadata": {},
   "outputs": [],
   "source": [
    "durg_table_answer['person_id'] = 1891866"
   ]
  },
  {
   "cell_type": "code",
   "execution_count": 596,
   "metadata": {},
   "outputs": [],
   "source": [
    "# 병합\n",
    "durg_table_answer = pd.concat([durg_table_answer,max_drug['drug_exposure_end_date'],min_durg['drug_exposure_start_date']],axis=1).sort_values('length',ascending=False)"
   ]
  },
  {
   "cell_type": "code",
   "execution_count": 597,
   "metadata": {},
   "outputs": [
    {
     "data": {
      "text/html": [
       "<div>\n",
       "<style scoped>\n",
       "    .dataframe tbody tr th:only-of-type {\n",
       "        vertical-align: middle;\n",
       "    }\n",
       "\n",
       "    .dataframe tbody tr th {\n",
       "        vertical-align: top;\n",
       "    }\n",
       "\n",
       "    .dataframe thead th {\n",
       "        text-align: right;\n",
       "    }\n",
       "</style>\n",
       "<table border=\"1\" class=\"dataframe\">\n",
       "  <thead>\n",
       "    <tr style=\"text-align: right;\">\n",
       "      <th></th>\n",
       "      <th>person_id</th>\n",
       "      <th>drug_concept_id</th>\n",
       "      <th>drug_exposure_start_date</th>\n",
       "      <th>drug_exposure_end_date</th>\n",
       "    </tr>\n",
       "  </thead>\n",
       "  <tbody>\n",
       "    <tr>\n",
       "      <th>0</th>\n",
       "      <td>1891866</td>\n",
       "      <td>19009384</td>\n",
       "      <td>1959-12-01</td>\n",
       "      <td>1998-10-06</td>\n",
       "    </tr>\n",
       "    <tr>\n",
       "      <th>1</th>\n",
       "      <td>1891866</td>\n",
       "      <td>1539463</td>\n",
       "      <td>1990-03-13</td>\n",
       "      <td>1998-03-11</td>\n",
       "    </tr>\n",
       "    <tr>\n",
       "      <th>2</th>\n",
       "      <td>1891866</td>\n",
       "      <td>19030765</td>\n",
       "      <td>1988-10-18</td>\n",
       "      <td>1998-10-05</td>\n",
       "    </tr>\n",
       "    <tr>\n",
       "      <th>3</th>\n",
       "      <td>1891866</td>\n",
       "      <td>40213154</td>\n",
       "      <td>1989-09-12</td>\n",
       "      <td>1998-07-07</td>\n",
       "    </tr>\n",
       "    <tr>\n",
       "      <th>4</th>\n",
       "      <td>1891866</td>\n",
       "      <td>40213227</td>\n",
       "      <td>1993-01-05</td>\n",
       "      <td>1993-01-05</td>\n",
       "    </tr>\n",
       "  </tbody>\n",
       "</table>\n",
       "</div>"
      ],
      "text/plain": [
       "   person_id  drug_concept_id drug_exposure_start_date drug_exposure_end_date\n",
       "0    1891866         19009384               1959-12-01             1998-10-06\n",
       "1    1891866          1539463               1990-03-13             1998-03-11\n",
       "2    1891866         19030765               1988-10-18             1998-10-05\n",
       "3    1891866         40213154               1989-09-12             1998-07-07\n",
       "4    1891866         40213227               1993-01-05             1993-01-05"
      ]
     },
     "execution_count": 597,
     "metadata": {},
     "output_type": "execute_result"
    }
   ],
   "source": [
    "#답에 맞게 수정\n",
    "durg_table_answer.reset_index()[['person_id', 'drug_concept_id','drug_exposure_start_date','drug_exposure_end_date']]"
   ]
  },
  {
   "cell_type": "code",
   "execution_count": 598,
   "metadata": {},
   "outputs": [],
   "source": [
    "#4\n",
    "query = \"\"\"\n",
    "select * from drug_exposure\n",
    "where drug_concept_id in (\n",
    "40213154,19078106,19009384,40224172,19127663,1511248,40169216,1539463,\n",
    "19126352,1539411,1332419,40163924,19030765,19106768,19075601)\n",
    "\"\"\"\n",
    "# Get a DataFrame\n",
    "\n",
    "durg_table = pd.read_sql(query, conn)"
   ]
  },
  {
   "cell_type": "code",
   "execution_count": 599,
   "metadata": {},
   "outputs": [],
   "source": [
    "#처방건수 table\n",
    "prescription_count = durg_table.groupby('drug_concept_id').count()[['drug_exposure_id']]"
   ]
  },
  {
   "cell_type": "code",
   "execution_count": 600,
   "metadata": {},
   "outputs": [],
   "source": [
    "query = \"\"\"\n",
    "select * from concept\n",
    "where concept_id in (\n",
    "40213154,19078106,19009384,40224172,19127663,1511248,40169216,1539463,\n",
    "19126352,1539411,1332419,40163924,19030765,19106768,19075601)\n",
    "\"\"\"\n",
    "# Get a DataFrame\n",
    "\n",
    "durg_name = pd.read_sql(query, conn)"
   ]
  },
  {
   "cell_type": "code",
   "execution_count": 601,
   "metadata": {},
   "outputs": [],
   "source": [
    "#durg_name table\n",
    "durg_name = durg_name[['concept_id', 'concept_name']]"
   ]
  },
  {
   "cell_type": "code",
   "execution_count": 602,
   "metadata": {},
   "outputs": [],
   "source": [
    "query = \"\"\"SELECT * FROM drug_pair\n",
    "\"\"\"\n",
    "durg_pair = pd.read_sql(query, conn)"
   ]
  },
  {
   "cell_type": "code",
   "execution_count": 603,
   "metadata": {},
   "outputs": [
    {
     "data": {
      "text/html": [
       "<div>\n",
       "<style scoped>\n",
       "    .dataframe tbody tr th:only-of-type {\n",
       "        vertical-align: middle;\n",
       "    }\n",
       "\n",
       "    .dataframe tbody tr th {\n",
       "        vertical-align: top;\n",
       "    }\n",
       "\n",
       "    .dataframe thead th {\n",
       "        text-align: right;\n",
       "    }\n",
       "</style>\n",
       "<table border=\"1\" class=\"dataframe\">\n",
       "  <thead>\n",
       "    <tr style=\"text-align: right;\">\n",
       "      <th></th>\n",
       "      <th>drug_concept_id1</th>\n",
       "      <th>drug_concept_id2</th>\n",
       "    </tr>\n",
       "  </thead>\n",
       "  <tbody>\n",
       "    <tr>\n",
       "      <th>0</th>\n",
       "      <td>40213154</td>\n",
       "      <td>19078106</td>\n",
       "    </tr>\n",
       "    <tr>\n",
       "      <th>1</th>\n",
       "      <td>19078106</td>\n",
       "      <td>40213154</td>\n",
       "    </tr>\n",
       "    <tr>\n",
       "      <th>2</th>\n",
       "      <td>19009384</td>\n",
       "      <td>19030765</td>\n",
       "    </tr>\n",
       "    <tr>\n",
       "      <th>3</th>\n",
       "      <td>40224172</td>\n",
       "      <td>40213154</td>\n",
       "    </tr>\n",
       "    <tr>\n",
       "      <th>4</th>\n",
       "      <td>19127663</td>\n",
       "      <td>19009384</td>\n",
       "    </tr>\n",
       "    <tr>\n",
       "      <th>5</th>\n",
       "      <td>1511248</td>\n",
       "      <td>40169216</td>\n",
       "    </tr>\n",
       "    <tr>\n",
       "      <th>6</th>\n",
       "      <td>40169216</td>\n",
       "      <td>1511248</td>\n",
       "    </tr>\n",
       "    <tr>\n",
       "      <th>7</th>\n",
       "      <td>1539463</td>\n",
       "      <td>19030765</td>\n",
       "    </tr>\n",
       "    <tr>\n",
       "      <th>8</th>\n",
       "      <td>19126352</td>\n",
       "      <td>1539411</td>\n",
       "    </tr>\n",
       "    <tr>\n",
       "      <th>9</th>\n",
       "      <td>1539411</td>\n",
       "      <td>19126352</td>\n",
       "    </tr>\n",
       "    <tr>\n",
       "      <th>10</th>\n",
       "      <td>1332419</td>\n",
       "      <td>19126352</td>\n",
       "    </tr>\n",
       "    <tr>\n",
       "      <th>11</th>\n",
       "      <td>40163924</td>\n",
       "      <td>19078106</td>\n",
       "    </tr>\n",
       "    <tr>\n",
       "      <th>12</th>\n",
       "      <td>19030765</td>\n",
       "      <td>19009384</td>\n",
       "    </tr>\n",
       "    <tr>\n",
       "      <th>13</th>\n",
       "      <td>19106768</td>\n",
       "      <td>40213154</td>\n",
       "    </tr>\n",
       "    <tr>\n",
       "      <th>14</th>\n",
       "      <td>19075601</td>\n",
       "      <td>19126352</td>\n",
       "    </tr>\n",
       "  </tbody>\n",
       "</table>\n",
       "</div>"
      ],
      "text/plain": [
       "    drug_concept_id1  drug_concept_id2\n",
       "0           40213154          19078106\n",
       "1           19078106          40213154\n",
       "2           19009384          19030765\n",
       "3           40224172          40213154\n",
       "4           19127663          19009384\n",
       "5            1511248          40169216\n",
       "6           40169216           1511248\n",
       "7            1539463          19030765\n",
       "8           19126352           1539411\n",
       "9            1539411          19126352\n",
       "10           1332419          19126352\n",
       "11          40163924          19078106\n",
       "12          19030765          19009384\n",
       "13          19106768          40213154\n",
       "14          19075601          19126352"
      ]
     },
     "execution_count": 603,
     "metadata": {},
     "output_type": "execute_result"
    }
   ],
   "source": [
    "# durg_pair table 쿼리\n",
    "durg_pair"
   ]
  },
  {
   "cell_type": "code",
   "execution_count": 604,
   "metadata": {},
   "outputs": [],
   "source": [
    "# pair로 작성된 약중, 두번째 약이 처방이 많이 된 첫번째 약의 약품명, 처방건수 출력\n",
    "# 첫번째 약의 처방건수 정의\n",
    "durg_pair['cnt_id1']= durg_pair['drug_concept_id1'].apply(lambda x : prescription_count.T[x].values[0])"
   ]
  },
  {
   "cell_type": "code",
   "execution_count": 605,
   "metadata": {},
   "outputs": [],
   "source": [
    "#두번째 약의 처방건수 정의\n",
    "durg_pair['cnt_id2']= durg_pair['drug_concept_id2'].apply(lambda x : prescription_count.T[x].values[0])"
   ]
  },
  {
   "cell_type": "code",
   "execution_count": 606,
   "metadata": {},
   "outputs": [],
   "source": [
    "#첫번째약 이름\n",
    "durg_pair['name']= durg_pair['drug_concept_id1'].apply(lambda x : durg_name.set_index('concept_id').T[x].values[0])"
   ]
  },
  {
   "cell_type": "code",
   "execution_count": 607,
   "metadata": {},
   "outputs": [],
   "source": [
    "# 두번째 약의 처방이 많이 된 경우 T, 아닌경우 N\n",
    "durg_pair['check']= np.where(durg_pair['cnt_id1']<durg_pair['cnt_id2'],'T','N')"
   ]
  },
  {
   "cell_type": "code",
   "execution_count": 608,
   "metadata": {},
   "outputs": [
    {
     "data": {
      "text/html": [
       "<div>\n",
       "<style scoped>\n",
       "    .dataframe tbody tr th:only-of-type {\n",
       "        vertical-align: middle;\n",
       "    }\n",
       "\n",
       "    .dataframe tbody tr th {\n",
       "        vertical-align: top;\n",
       "    }\n",
       "\n",
       "    .dataframe thead th {\n",
       "        text-align: right;\n",
       "    }\n",
       "</style>\n",
       "<table border=\"1\" class=\"dataframe\">\n",
       "  <thead>\n",
       "    <tr style=\"text-align: right;\">\n",
       "      <th></th>\n",
       "      <th>name</th>\n",
       "    </tr>\n",
       "  </thead>\n",
       "  <tbody>\n",
       "    <tr>\n",
       "      <th>14</th>\n",
       "      <td>clopidogrel 75 MG Oral Tablet</td>\n",
       "    </tr>\n",
       "    <tr>\n",
       "      <th>13</th>\n",
       "      <td>hydrochlorothiazide 12.5 MG Oral Tablet</td>\n",
       "    </tr>\n",
       "    <tr>\n",
       "      <th>12</th>\n",
       "      <td>1 ML epoetin alfa 4000 UNT/ML Injection [Epogen]</td>\n",
       "    </tr>\n",
       "    <tr>\n",
       "      <th>11</th>\n",
       "      <td>24 HR metformin hydrochloride 500 MG Extended ...</td>\n",
       "    </tr>\n",
       "    <tr>\n",
       "      <th>10</th>\n",
       "      <td>amlodipine 5 MG Oral Tablet</td>\n",
       "    </tr>\n",
       "    <tr>\n",
       "      <th>9</th>\n",
       "      <td>simvastatin 20 MG Oral Tablet</td>\n",
       "    </tr>\n",
       "    <tr>\n",
       "      <th>6</th>\n",
       "      <td>120 ACTUAT fluticasone propionate 0.044 MG/ACT...</td>\n",
       "    </tr>\n",
       "    <tr>\n",
       "      <th>4</th>\n",
       "      <td>atenolol 50 MG / chlorthalidone 25 MG Oral Tab...</td>\n",
       "    </tr>\n",
       "    <tr>\n",
       "      <th>3</th>\n",
       "      <td>amlodipine 5 MG / hydrochlorothiazide 12.5 MG ...</td>\n",
       "    </tr>\n",
       "    <tr>\n",
       "      <th>1</th>\n",
       "      <td>hydrochlorothiazide 25 MG Oral Tablet</td>\n",
       "    </tr>\n",
       "  </tbody>\n",
       "</table>\n",
       "</div>"
      ],
      "text/plain": [
       "                                                 name\n",
       "14                      clopidogrel 75 MG Oral Tablet\n",
       "13            hydrochlorothiazide 12.5 MG Oral Tablet\n",
       "12   1 ML epoetin alfa 4000 UNT/ML Injection [Epogen]\n",
       "11  24 HR metformin hydrochloride 500 MG Extended ...\n",
       "10                        amlodipine 5 MG Oral Tablet\n",
       "9                       simvastatin 20 MG Oral Tablet\n",
       "6   120 ACTUAT fluticasone propionate 0.044 MG/ACT...\n",
       "4   atenolol 50 MG / chlorthalidone 25 MG Oral Tab...\n",
       "3   amlodipine 5 MG / hydrochlorothiazide 12.5 MG ...\n",
       "1               hydrochlorothiazide 25 MG Oral Tablet"
      ]
     },
     "execution_count": 608,
     "metadata": {},
     "output_type": "execute_result"
    }
   ],
   "source": [
    "# pair로 작성된 약중, 두번째 약이 처방이 많이 된 첫번째 약의 약품명을 처방건수 순으로 출력\n",
    "durg_pair.loc[durg_pair['check']=='T'].sort_values('cnt_id1')[['name']]"
   ]
  },
  {
   "cell_type": "code",
   "execution_count": 609,
   "metadata": {},
   "outputs": [],
   "source": [
    "#5 제 2형 당뇨병을 진단받은 환자"
   ]
  },
  {
   "cell_type": "code",
   "execution_count": 610,
   "metadata": {},
   "outputs": [],
   "source": [
    "query=  \"\"\"\n",
    "SELECT * FROM condition_occurrence\n",
    "WHERE condition_concept_id IN (3191208,36684827,3194332,3193274,43531010,4130162,45766052,\n",
    "45757474,4099651,4129519,4063043,4230254,4193704,4304377,201826,3194082,3192767)\n",
    "\"\"\"\n",
    "\n",
    "# Get a DataFrame\n",
    "\n",
    "diabetic = pd.read_sql(query, conn)"
   ]
  },
  {
   "cell_type": "code",
   "execution_count": 612,
   "metadata": {},
   "outputs": [],
   "source": [
    "# 18세 이상의 환자(person table)\n",
    "query=  \"\"\"\n",
    "select * from de.person\n",
    "\"\"\"\n",
    "\n",
    "# Get a DataFrame\n",
    "\n",
    "person = pd.read_sql(query, conn)"
   ]
  },
  {
   "cell_type": "code",
   "execution_count": 614,
   "metadata": {},
   "outputs": [],
   "source": [
    "# 18세 이상의 환자(person table)\n",
    "diabetic_table = pd.merge(diabetic,person[['person_id', 'year_of_birth']], on= 'person_id')"
   ]
  },
  {
   "cell_type": "code",
   "execution_count": 615,
   "metadata": {},
   "outputs": [],
   "source": [
    "diabetic_person = diabetic_table.loc[diabetic_table['year_of_birth']<2005][['person_id']]"
   ]
  },
  {
   "cell_type": "code",
   "execution_count": 616,
   "metadata": {},
   "outputs": [],
   "source": [
    "# 확인인자 T\n",
    "diabetic_person['chk'] = 'T'"
   ]
  },
  {
   "cell_type": "code",
   "execution_count": 617,
   "metadata": {},
   "outputs": [],
   "source": [
    "#진단을 받은 이후 Metformin을 90일 이상 복용한 환자수"
   ]
  },
  {
   "cell_type": "code",
   "execution_count": 618,
   "metadata": {},
   "outputs": [],
   "source": [
    "metformin_table = drug_exposure.loc[drug_exposure['drug_concept_id'] == 40163924]"
   ]
  },
  {
   "cell_type": "code",
   "execution_count": 619,
   "metadata": {},
   "outputs": [
    {
     "name": "stderr",
     "output_type": "stream",
     "text": [
      "<ipython-input-619-02c569b73e59>:2: SettingWithCopyWarning: \n",
      "A value is trying to be set on a copy of a slice from a DataFrame.\n",
      "Try using .loc[row_indexer,col_indexer] = value instead\n",
      "\n",
      "See the caveats in the documentation: https://pandas.pydata.org/pandas-docs/stable/user_guide/indexing.html#returning-a-view-versus-a-copy\n",
      "  metformin_table['length']= metformin_table['drug_exposure_end_date'].astype('datetime64') - metformin_table['drug_exposure_start_date'].astype('datetime64')\n"
     ]
    }
   ],
   "source": [
    "# 복용기간정의\n",
    "metformin_table['length']= metformin_table['drug_exposure_end_date'].astype('datetime64') - metformin_table['drug_exposure_start_date'].astype('datetime64')"
   ]
  },
  {
   "cell_type": "code",
   "execution_count": 620,
   "metadata": {},
   "outputs": [
    {
     "name": "stderr",
     "output_type": "stream",
     "text": [
      "<ipython-input-620-6f899ce10554>:2: SettingWithCopyWarning: \n",
      "A value is trying to be set on a copy of a slice from a DataFrame.\n",
      "Try using .loc[row_indexer,col_indexer] = value instead\n",
      "\n",
      "See the caveats in the documentation: https://pandas.pydata.org/pandas-docs/stable/user_guide/indexing.html#returning-a-view-versus-a-copy\n",
      "  metformin_table['length'] = metformin_table['length'].apply(lambda x: x.days)\n"
     ]
    }
   ],
   "source": [
    "# 복용기간 int형으로 변형\n",
    "metformin_table['length'] = metformin_table['length'].apply(lambda x: x.days)"
   ]
  },
  {
   "cell_type": "code",
   "execution_count": 621,
   "metadata": {},
   "outputs": [],
   "source": [
    "# 사람별 복용기간 계산\n",
    "metformin_length= metformin_table.groupby('person_id').sum()[['length']]"
   ]
  },
  {
   "cell_type": "code",
   "execution_count": 622,
   "metadata": {},
   "outputs": [],
   "source": [
    "# 90일 이상 복용시\n",
    "metformin = metformin_length.loc[ metformin_length['length']>90]"
   ]
  },
  {
   "cell_type": "code",
   "execution_count": 623,
   "metadata": {},
   "outputs": [],
   "source": [
    "# 18세 이상\n",
    "check_person= pd.merge(metformin.reset_index(),diabetic_person,on='person_id')"
   ]
  },
  {
   "cell_type": "code",
   "execution_count": 624,
   "metadata": {},
   "outputs": [
    {
     "data": {
      "text/plain": [
       "30"
      ]
     },
     "execution_count": 624,
     "metadata": {},
     "output_type": "execute_result"
    }
   ],
   "source": [
    "# 총 인원수\n",
    "len(check_person.loc[check_person['chk']=='T'])"
   ]
  },
  {
   "cell_type": "code",
   "execution_count": 625,
   "metadata": {},
   "outputs": [],
   "source": [
    "#6. 의약품 처방이 변경된 패턴 추출, 빈도의 내림차순 나열"
   ]
  },
  {
   "cell_type": "code",
   "execution_count": 626,
   "metadata": {},
   "outputs": [],
   "source": [
    "#5a테이블과 durg_exposure에서 person_id로 병합\n",
    "pre_patten= pd.merge(diabetic[['person_id']], drug_exposure, on= 'person_id')"
   ]
  },
  {
   "cell_type": "code",
   "execution_count": 627,
   "metadata": {},
   "outputs": [],
   "source": [
    "#불필요한부분 제거\n",
    "pre_patten = pre_patten[['person_id', 'drug_concept_id','drug_exposure_start_date']]"
   ]
  },
  {
   "cell_type": "code",
   "execution_count": 628,
   "metadata": {},
   "outputs": [],
   "source": [
    "#약품 패턴 추출위해 문자열로 라벨링\n",
    "pre_patten['patten']= np.where(pre_patten['drug_concept_id'] == 19018935,'a',np.where(pre_patten['drug_concept_id'] == 1539411,'b',np.where(pre_patten['drug_concept_id'] == 1539463,'b',np.where(pre_patten['drug_concept_id'] == 19075601,'c',np.where(pre_patten['drug_concept_id'] == 19075601,'d','NA')))))"
   ]
  },
  {
   "cell_type": "code",
   "execution_count": 629,
   "metadata": {},
   "outputs": [],
   "source": [
    "#필요없는 약품 제거\n",
    "pre_patten= pre_patten.loc[pre_patten['patten']!='NA']"
   ]
  },
  {
   "cell_type": "code",
   "execution_count": 630,
   "metadata": {},
   "outputs": [],
   "source": [
    "#처방일 데이트타임 타입으로 변경\n",
    "pre_patten['drug_exposure_start_date'] = pre_patten['drug_exposure_start_date'].astype('datetime64')"
   ]
  },
  {
   "cell_type": "code",
   "execution_count": 631,
   "metadata": {},
   "outputs": [],
   "source": [
    "#같은 사람, 처방일 에따른 패턴\n",
    "patten = pre_patten[['person_id','drug_exposure_start_date','patten']].groupby(['person_id','drug_exposure_start_date']).apply(sum)[['patten']]"
   ]
  },
  {
   "cell_type": "code",
   "execution_count": 632,
   "metadata": {},
   "outputs": [],
   "source": [
    "#같은 처방일 a b c d 순서로 정렬\n",
    "patten['patten'] = patten.patten.apply(sorted).apply(set).apply(\"\".join)"
   ]
  },
  {
   "cell_type": "code",
   "execution_count": 633,
   "metadata": {},
   "outputs": [],
   "source": [
    "# 같은 처방일 패턴구분자'()' 및 추후 split에 사용할 공백 추가\n",
    "def insert_option(A):\n",
    "    return'('+A+') '"
   ]
  },
  {
   "cell_type": "code",
   "execution_count": 634,
   "metadata": {},
   "outputs": [],
   "source": [
    "patten['patten'] = patten.patten.apply(insert_option)"
   ]
  },
  {
   "cell_type": "code",
   "execution_count": 635,
   "metadata": {},
   "outputs": [],
   "source": [
    "# 같은 처방일 기준 패턴처리\n",
    "result = []\n",
    "for i in patten.reset_index().groupby('person_id').apply(sum)['patten'].str.split(' ').values:\n",
    "    temp_result = ''\n",
    "    for j in i[1:]:\n",
    "        if j == init:\n",
    "            continue\n",
    "        else:\n",
    "            temp_result= temp_result+init+'->'\n",
    "            init = j\n",
    "    result.append(temp_result)\n",
    "\n"
   ]
  },
  {
   "cell_type": "code",
   "execution_count": 636,
   "metadata": {},
   "outputs": [],
   "source": [
    "# 결과 데이터 프레임 생성\n",
    "patten_result = patten.reset_index().groupby('person_id').count()"
   ]
  },
  {
   "cell_type": "code",
   "execution_count": 637,
   "metadata": {},
   "outputs": [],
   "source": [
    "patten_result['result']= result"
   ]
  },
  {
   "cell_type": "code",
   "execution_count": 638,
   "metadata": {},
   "outputs": [],
   "source": [
    "#맨앞, 맨뒤 필요없는 구분자 제거\n",
    "patten_result['result']= patten_result['result'].str.slice(2,-2).values"
   ]
  },
  {
   "cell_type": "code",
   "execution_count": 639,
   "metadata": {},
   "outputs": [
    {
     "data": {
      "text/html": [
       "<div>\n",
       "<style scoped>\n",
       "    .dataframe tbody tr th:only-of-type {\n",
       "        vertical-align: middle;\n",
       "    }\n",
       "\n",
       "    .dataframe tbody tr th {\n",
       "        vertical-align: top;\n",
       "    }\n",
       "\n",
       "    .dataframe thead th {\n",
       "        text-align: right;\n",
       "    }\n",
       "</style>\n",
       "<table border=\"1\" class=\"dataframe\">\n",
       "  <thead>\n",
       "    <tr style=\"text-align: right;\">\n",
       "      <th></th>\n",
       "      <th>patten</th>\n",
       "    </tr>\n",
       "    <tr>\n",
       "      <th>result</th>\n",
       "      <th></th>\n",
       "    </tr>\n",
       "  </thead>\n",
       "  <tbody>\n",
       "    <tr>\n",
       "      <th>(b)</th>\n",
       "      <td>7</td>\n",
       "    </tr>\n",
       "    <tr>\n",
       "      <th>(bc)</th>\n",
       "      <td>3</td>\n",
       "    </tr>\n",
       "    <tr>\n",
       "      <th>(a)</th>\n",
       "      <td>1</td>\n",
       "    </tr>\n",
       "    <tr>\n",
       "      <th>(a)-&gt;(ab)</th>\n",
       "      <td>1</td>\n",
       "    </tr>\n",
       "    <tr>\n",
       "      <th>(a)-&gt;(b)</th>\n",
       "      <td>1</td>\n",
       "    </tr>\n",
       "    <tr>\n",
       "      <th>(b)-&gt;(bc)</th>\n",
       "      <td>1</td>\n",
       "    </tr>\n",
       "    <tr>\n",
       "      <th>(b)-&gt;(bc)-&gt;(b)-&gt;(bc)-&gt;(b)-&gt;(bc)-&gt;(b)-&gt;(bc)</th>\n",
       "      <td>1</td>\n",
       "    </tr>\n",
       "    <tr>\n",
       "      <th>(b)-&gt;(c)</th>\n",
       "      <td>1</td>\n",
       "    </tr>\n",
       "    <tr>\n",
       "      <th>(b)-&gt;(c)-&gt;(bc)-&gt;(a)-&gt;(abc)-&gt;(c)-&gt;(abc)-&gt;(c)-&gt;(abc)</th>\n",
       "      <td>1</td>\n",
       "    </tr>\n",
       "    <tr>\n",
       "      <th>(bc)-&gt;(b)-&gt;(bc)-&gt;(b)-&gt;(bc)-&gt;(b)-&gt;(bc)-&gt;(b)-&gt;(bc)-&gt;(b)-&gt;(bc)-&gt;(b)-&gt;(bc)-&gt;(b)-&gt;(bc)-&gt;(b)-&gt;(bc)-&gt;(b)-&gt;(bc)-&gt;(b)-&gt;(bc)-&gt;(b)-&gt;(bc)</th>\n",
       "      <td>1</td>\n",
       "    </tr>\n",
       "    <tr>\n",
       "      <th>(c)</th>\n",
       "      <td>1</td>\n",
       "    </tr>\n",
       "  </tbody>\n",
       "</table>\n",
       "</div>"
      ],
      "text/plain": [
       "                                                    patten\n",
       "result                                                    \n",
       "(b)                                                      7\n",
       "(bc)                                                     3\n",
       "(a)                                                      1\n",
       "(a)->(ab)                                                1\n",
       "(a)->(b)                                                 1\n",
       "(b)->(bc)                                                1\n",
       "(b)->(bc)->(b)->(bc)->(b)->(bc)->(b)->(bc)               1\n",
       "(b)->(c)                                                 1\n",
       "(b)->(c)->(bc)->(a)->(abc)->(c)->(abc)->(c)->(abc)       1\n",
       "(bc)->(b)->(bc)->(b)->(bc)->(b)->(bc)->(b)->(bc...       1\n",
       "(c)                                                      1"
      ]
     },
     "execution_count": 639,
     "metadata": {},
     "output_type": "execute_result"
    }
   ],
   "source": [
    "# 패턴별 갯수 내림차순 정렬\n",
    "patten_result.groupby('result').count().iloc[:,[1]].sort_values('patten', ascending=False)"
   ]
  },
  {
   "cell_type": "code",
   "execution_count": 640,
   "metadata": {},
   "outputs": [],
   "source": [
    "#7\n",
    "#파싱 및 전처리\n",
    "query=  \"\"\"\n",
    "select * from de.clinical_note\n",
    "\"\"\"\n",
    "\n",
    "# Get a DataFrame\n",
    "\n",
    "note = pd.read_sql(query, conn)"
   ]
  },
  {
   "cell_type": "code",
   "execution_count": 641,
   "metadata": {},
   "outputs": [
    {
     "data": {
      "text/plain": [
       "64"
      ]
     },
     "execution_count": 641,
     "metadata": {},
     "output_type": "execute_result"
    }
   ],
   "source": [
    "# \\n 구분자로 자르기\n",
    "len(note.note[0].split('\\n'))"
   ]
  },
  {
   "cell_type": "code",
   "execution_count": 642,
   "metadata": {},
   "outputs": [],
   "source": [
    "k = note.note[14].split('\\n')"
   ]
  },
  {
   "cell_type": "code",
   "execution_count": 643,
   "metadata": {},
   "outputs": [
    {
     "name": "stdout",
     "output_type": "stream",
     "text": [
      "[1]\n",
      "[8, 11, 35, 45]\n",
      "[36]\n"
     ]
    }
   ],
   "source": [
    "# ---, ===, CONTINUING의 위치 할당\n",
    "init_pos = [i for i, x in enumerate(k) if x == '===============']\n",
    "pos = [i for i, x in enumerate(k) if x == '--------------------------------------------------------------------------------']\n",
    "con_pos = [i for i, x in enumerate(k) if x == 'CONTINUING']\n",
    "print(init_pos)\n",
    "print(pos)\n",
    "print(con_pos)\n",
    "        "
   ]
  },
  {
   "cell_type": "code",
   "execution_count": 644,
   "metadata": {},
   "outputs": [
    {
     "data": {
      "text/html": [
       "<div>\n",
       "<style scoped>\n",
       "    .dataframe tbody tr th:only-of-type {\n",
       "        vertical-align: middle;\n",
       "    }\n",
       "\n",
       "    .dataframe tbody tr th {\n",
       "        vertical-align: top;\n",
       "    }\n",
       "\n",
       "    .dataframe thead th {\n",
       "        text-align: right;\n",
       "    }\n",
       "</style>\n",
       "<table border=\"1\" class=\"dataframe\">\n",
       "  <thead>\n",
       "    <tr style=\"text-align: right;\">\n",
       "      <th></th>\n",
       "      <th>0</th>\n",
       "      <th>1</th>\n",
       "    </tr>\n",
       "  </thead>\n",
       "  <tbody>\n",
       "    <tr>\n",
       "      <th>0</th>\n",
       "      <td>Race</td>\n",
       "      <td>White</td>\n",
       "    </tr>\n",
       "    <tr>\n",
       "      <th>1</th>\n",
       "      <td>Ethnicity</td>\n",
       "      <td>Non-Hispanic</td>\n",
       "    </tr>\n",
       "    <tr>\n",
       "      <th>2</th>\n",
       "      <td>Gender</td>\n",
       "      <td>M</td>\n",
       "    </tr>\n",
       "    <tr>\n",
       "      <th>3</th>\n",
       "      <td>Age</td>\n",
       "      <td>55</td>\n",
       "    </tr>\n",
       "    <tr>\n",
       "      <th>4</th>\n",
       "      <td>Birth Date</td>\n",
       "      <td>1965-04-22</td>\n",
       "    </tr>\n",
       "    <tr>\n",
       "      <th>5</th>\n",
       "      <td>Marital Status</td>\n",
       "      <td>M</td>\n",
       "    </tr>\n",
       "  </tbody>\n",
       "</table>\n",
       "</div>"
      ],
      "text/plain": [
       "                0                        1\n",
       "0            Race                    White\n",
       "1       Ethnicity             Non-Hispanic\n",
       "2          Gender                        M\n",
       "3             Age                       55\n",
       "4      Birth Date               1965-04-22\n",
       "5  Marital Status                        M"
      ]
     },
     "execution_count": 644,
     "metadata": {},
     "output_type": "execute_result"
    }
   ],
   "source": [
    "# 위치기준으로 초기 데이터에서 파싱\n",
    "pd.DataFrame(k[init_pos[0]+1:pos[0]])[0].str.split(':',expand=True)"
   ]
  },
  {
   "cell_type": "code",
   "execution_count": 645,
   "metadata": {},
   "outputs": [
    {
     "data": {
      "text/plain": [
       "['--------------------------------------------------------------------------------',\n",
       " 'ALLERGIES:',\n",
       " 'No Known Allergies']"
      ]
     },
     "execution_count": 645,
     "metadata": {},
     "output_type": "execute_result"
    }
   ],
   "source": [
    "#알러지 데이터 안쓸듯 함\n",
    "k[pos[0]:pos[1]]"
   ]
  },
  {
   "cell_type": "code",
   "execution_count": 646,
   "metadata": {},
   "outputs": [
    {
     "data": {
      "text/plain": [
       "['ENCOUNTER',\n",
       " '1984-06-07 : Encounter at FALMOUTH HOSPITAL : Encounter for Major depression, single episode',\n",
       " 'Type: ambulatory',\n",
       " '   ',\n",
       " '   MEDICATIONS:',\n",
       " '   ',\n",
       " '   CONDITIONS:',\n",
       " '   ',\n",
       " '   CARE PLANS:',\n",
       " '  1984-06-07 : Mental health care plan',\n",
       " '                         Reason: Major depression, single episode',\n",
       " '                         Activity: Initial psychiatric interview with mental status and evaluation',\n",
       " '   ',\n",
       " '   REPORTS:',\n",
       " '   ',\n",
       " '   OBSERVATIONS:',\n",
       " '   ',\n",
       " '   PROCEDURES:',\n",
       " '   ',\n",
       " '   IMMUNIZATIONS:',\n",
       " '   ',\n",
       " '   IMAGING STUDIES:',\n",
       " '   ']"
      ]
     },
     "execution_count": 646,
     "metadata": {},
     "output_type": "execute_result"
    }
   ],
   "source": [
    "# 규칙성 찾아낼것\n",
    "k[pos[1]+1:pos[2]]"
   ]
  },
  {
   "cell_type": "code",
   "execution_count": 647,
   "metadata": {},
   "outputs": [],
   "source": [
    "#CONTINUING 위아래 ---- 사이 제거 \n",
    "res = []\n",
    "for i in pos:\n",
    "    if con_pos[0] < i:\n",
    "        continue\n",
    "    else:\n",
    "        k[init_pos[0]+1:pos[0]]\n",
    "        res.append(i)"
   ]
  },
  {
   "cell_type": "code",
   "execution_count": 648,
   "metadata": {},
   "outputs": [
    {
     "data": {
      "text/plain": [
       "[8, 11, 35]"
      ]
     },
     "execution_count": 648,
     "metadata": {},
     "output_type": "execute_result"
    }
   ],
   "source": [
    "res"
   ]
  },
  {
   "cell_type": "code",
   "execution_count": 649,
   "metadata": {},
   "outputs": [],
   "source": [
    "\n",
    "# 랜덤한수 person_id 에 부여하기 (중복제거)\n",
    "\n",
    "# 내원번호 부여\n",
    "\n"
   ]
  },
  {
   "cell_type": "code",
   "execution_count": 650,
   "metadata": {},
   "outputs": [],
   "source": [
    "# 데이터 생성"
   ]
  },
  {
   "cell_type": "code",
   "execution_count": null,
   "metadata": {},
   "outputs": [],
   "source": []
  }
 ],
 "metadata": {
  "interpreter": {
   "hash": "ed6ebbd231714123173a1b92784e20951cf2290259ba1bfa87e226c60691e40d"
  },
  "kernelspec": {
   "display_name": "Python 3",
   "language": "python",
   "name": "python3"
  },
  "language_info": {
   "codemirror_mode": {
    "name": "ipython",
    "version": 3
   },
   "file_extension": ".py",
   "mimetype": "text/x-python",
   "name": "python",
   "nbconvert_exporter": "python",
   "pygments_lexer": "ipython3",
   "version": "3.8.8"
  }
 },
 "nbformat": 4,
 "nbformat_minor": 2
}
